{
 "cells": [
  {
   "cell_type": "code",
   "execution_count": 7,
   "id": "16b9c4d7",
   "metadata": {},
   "outputs": [],
   "source": [
    "import tensorflow as tf\n",
    "import cv2\n",
    "import os\n",
    "import matplotlib.pyplot as plt\n",
    "import numpy as np\n",
    "\n",
    "from tensorflow import keras\n",
    "from tensorflow.keras import layers\n",
    "import datetime"
   ]
  },
  {
   "cell_type": "code",
   "execution_count": 36,
   "id": "d42efa48",
   "metadata": {},
   "outputs": [],
   "source": [
    "\n",
    "\n",
    "Datadirectory=\"train_dataset/\"\n",
    "Classes=[\"closed_eyes\",\"open_eyes\"]\n",
    "for category in Classes:\n",
    "    path=os.path.join(Datadirectory, category)\n",
    "    for img in os.listdir(path):\n",
    "        img_array=cv2.imread(os.path.join(path,img),cv2.IMREAD_GRAYSCALE)\n",
    "        backtorgb=cv2.cvtColor(img_array,cv2.COLOR_GRAY2RGB)\n",
    "        break\n",
    "        \n",
    "        \n",
    "        \n",
    "    break\n"
   ]
  },
  {
   "cell_type": "code",
   "execution_count": 37,
   "id": "ad53d1b8",
   "metadata": {},
   "outputs": [],
   "source": [
    "img_size=224\n",
    "new_array=cv2.resize(backtorgb,(img_size,img_size))\n"
   ]
  },
  {
   "cell_type": "code",
   "execution_count": 38,
   "id": "d14ba69c",
   "metadata": {},
   "outputs": [],
   "source": [
    "\n",
    "\n",
    "training_Data=[]\n",
    "def create_training_Data():\n",
    "    for category in Classes:\n",
    "        path=os.path.join(Datadirectory,category)\n",
    "        class_num=Classes.index(category)\n",
    "        for img in os.listdir(path):\n",
    "            try:\n",
    "                img_array=cv2.imread(os.path.join(path,img),cv2.IMREAD_GRAYSCALE)\n",
    "                backtorgb=cv2.cvtColor(img_array,cv2.COLOR_GRAY2RGB)\n",
    "                new_array=cv2.resize(backtorgb,(img_size,img_size))\n",
    "                training_Data.append([new_array,class_num])\n",
    "            except Exception as e:\n",
    "                    pass"
   ]
  },
  {
   "cell_type": "code",
   "execution_count": 39,
   "id": "8df38ecc",
   "metadata": {},
   "outputs": [],
   "source": [
    "create_training_Data()"
   ]
  },
  {
   "cell_type": "code",
   "execution_count": 40,
   "id": "97f1e4a2",
   "metadata": {},
   "outputs": [
    {
     "name": "stdout",
     "output_type": "stream",
     "text": [
      "10359\n"
     ]
    }
   ],
   "source": [
    "print(len(training_Data))"
   ]
  },
  {
   "cell_type": "code",
   "execution_count": 41,
   "id": "0acef013",
   "metadata": {},
   "outputs": [],
   "source": [
    "import random\n",
    "random.shuffle(training_Data)\n"
   ]
  },
  {
   "cell_type": "code",
   "execution_count": 42,
   "id": "2150ab32",
   "metadata": {},
   "outputs": [],
   "source": [
    "X=[]\n",
    "y=[]\n",
    "for features,label in training_Data:\n",
    "    X.append(features)\n",
    "    y.append(label)\n",
    "    \n",
    "X=np.array(X).reshape(-1,img_size,img_size,3)\n",
    "\n"
   ]
  },
  {
   "cell_type": "code",
   "execution_count": 43,
   "id": "58c0ba3d",
   "metadata": {},
   "outputs": [
    {
     "data": {
      "text/plain": [
       "(10359, 224, 224, 3)"
      ]
     },
     "execution_count": 43,
     "metadata": {},
     "output_type": "execute_result"
    }
   ],
   "source": [
    "X.shape"
   ]
  },
  {
   "cell_type": "code",
   "execution_count": 44,
   "id": "0a83a2ea",
   "metadata": {},
   "outputs": [],
   "source": [
    "Y=np.array(y)"
   ]
  },
  {
   "cell_type": "code",
   "execution_count": 45,
   "id": "38083d77",
   "metadata": {},
   "outputs": [],
   "source": [
    "\n",
    "import pickle\n",
    "pickle_out=open(\"X.pickle\",\"wb\")\n",
    "pickle.dump(X,pickle_out)\n",
    "pickle_out=open(\"y.pickle\",\"wb\")\n",
    "pickle.dump(y,pickle_out)\n",
    "pickle_out.close()\n",
    "\n",
    "pickle_in=open(\"X.pickle\",\"rb\")\n",
    "X=pickle.load(pickle_in)\n",
    "\n",
    "pickle_in=open(\"y.pickle\",\"rb\")\n",
    "y=pickle.load(pickle_in)"
   ]
  },
  {
   "cell_type": "code",
   "execution_count": 46,
   "id": "352eacc0",
   "metadata": {},
   "outputs": [],
   "source": [
    "model=tf.keras.applications.mobilenet.MobileNet()\n",
    "\n"
   ]
  },
  {
   "cell_type": "code",
   "execution_count": 47,
   "id": "8c45b353",
   "metadata": {},
   "outputs": [],
   "source": [
    "base_input=model.layers[0].input"
   ]
  },
  {
   "cell_type": "code",
   "execution_count": 48,
   "id": "a92b9572",
   "metadata": {},
   "outputs": [],
   "source": [
    "base_output=model.layers[-4].output"
   ]
  },
  {
   "cell_type": "code",
   "execution_count": 49,
   "id": "d14b6455",
   "metadata": {},
   "outputs": [],
   "source": [
    "Flat_layer=layers.Flatten()(base_output)\n",
    "final_output=layers.Dense(1)(Flat_layer)\n",
    "final_output=layers.Activation('sigmoid')(final_output)"
   ]
  },
  {
   "cell_type": "code",
   "execution_count": 50,
   "id": "5ba121c7",
   "metadata": {},
   "outputs": [],
   "source": [
    "new_model=keras.Model(inputs=base_input,outputs=final_output)"
   ]
  },
  {
   "cell_type": "code",
   "execution_count": 51,
   "id": "29bfd00f",
   "metadata": {},
   "outputs": [],
   "source": [
    "new_model.compile(loss=\"binary_crossentropy\",optimizer=\"adam\",metrics=[\"accuracy\"])"
   ]
  },
  {
   "cell_type": "code",
   "execution_count": 52,
   "id": "3ae3c59b",
   "metadata": {},
   "outputs": [],
   "source": [
    "log_dir = \"logs/fit/\" + datetime.datetime.now().strftime(\"%Y%m%d-%H%M%S\")\n",
    "tensorboard_callback = tf.keras.callbacks.TensorBoard(log_dir=log_dir, histogram_freq=1)\n"
   ]
  },
  {
   "cell_type": "code",
   "execution_count": 53,
   "id": "7f4d7c1b",
   "metadata": {},
   "outputs": [
    {
     "name": "stdout",
     "output_type": "stream",
     "text": [
      "Epoch 1/10\n",
      "227/227 [==============================] - 490s 2s/step - loss: 0.0779 - accuracy: 0.9783 - val_loss: 0.0248 - val_accuracy: 0.9929\n",
      "Epoch 2/10\n",
      "227/227 [==============================] - 497s 2s/step - loss: 0.0251 - accuracy: 0.9927 - val_loss: 0.0206 - val_accuracy: 0.9932\n",
      "Epoch 3/10\n",
      "227/227 [==============================] - 492s 2s/step - loss: 0.0157 - accuracy: 0.9942 - val_loss: 0.0363 - val_accuracy: 0.9826\n",
      "Epoch 4/10\n",
      "227/227 [==============================] - 534s 2s/step - loss: 0.0123 - accuracy: 0.9961 - val_loss: 0.1320 - val_accuracy: 0.9466\n",
      "Epoch 5/10\n",
      "227/227 [==============================] - 613s 3s/step - loss: 0.0247 - accuracy: 0.9928 - val_loss: 0.0261 - val_accuracy: 0.9932\n",
      "Epoch 6/10\n",
      "227/227 [==============================] - 633s 3s/step - loss: 0.0090 - accuracy: 0.9970 - val_loss: 0.0101 - val_accuracy: 0.9961\n",
      "Epoch 7/10\n",
      "227/227 [==============================] - 597s 3s/step - loss: 0.0068 - accuracy: 0.9982 - val_loss: 0.0225 - val_accuracy: 0.9920\n",
      "Epoch 8/10\n",
      "227/227 [==============================] - 558s 2s/step - loss: 0.0119 - accuracy: 0.9956 - val_loss: 0.0645 - val_accuracy: 0.9833\n",
      "Epoch 9/10\n",
      "227/227 [==============================] - 511s 2s/step - loss: 0.0096 - accuracy: 0.9970 - val_loss: 0.0128 - val_accuracy: 0.9961\n",
      "Epoch 10/10\n",
      "227/227 [==============================] - 560s 2s/step - loss: 0.0104 - accuracy: 0.9966 - val_loss: 0.0222 - val_accuracy: 0.9920\n"
     ]
    },
    {
     "data": {
      "text/plain": [
       "<keras.callbacks.History at 0x21182b83250>"
      ]
     },
     "execution_count": 53,
     "metadata": {},
     "output_type": "execute_result"
    }
   ],
   "source": [
    "new_model.fit(X,Y,batch_size=32,validation_split=0.3,epochs=10,callbacks=[tensorboard_callback])"
   ]
  },
  {
   "cell_type": "code",
   "execution_count": 9,
   "id": "ef5891c7",
   "metadata": {},
   "outputs": [
    {
     "name": "stdout",
     "output_type": "stream",
     "text": [
      "The tensorboard extension is already loaded. To reload it, use:\n",
      "  %reload_ext tensorboard\n"
     ]
    }
   ],
   "source": [
    "%load_ext tensorboard"
   ]
  },
  {
   "cell_type": "code",
   "execution_count": 14,
   "id": "b4e659cf",
   "metadata": {
    "scrolled": true
   },
   "outputs": [
    {
     "data": {
      "text/html": [
       "\n",
       "      <iframe id=\"tensorboard-frame-eb5d65807f17f999\" width=\"100%\" height=\"800\" frameborder=\"0\">\n",
       "      </iframe>\n",
       "      <script>\n",
       "        (function() {\n",
       "          const frame = document.getElementById(\"tensorboard-frame-eb5d65807f17f999\");\n",
       "          const url = new URL(\"/\", window.location);\n",
       "          const port = 6006;\n",
       "          if (port) {\n",
       "            url.port = port;\n",
       "          }\n",
       "          frame.src = url;\n",
       "        })();\n",
       "      </script>\n",
       "    "
      ],
      "text/plain": [
       "<IPython.core.display.HTML object>"
      ]
     },
     "metadata": {},
     "output_type": "display_data"
    }
   ],
   "source": [
    "%tensorboard --logdir Users/Acer/project/Drowsiness_detection/V_and_V/logs/fit"
   ]
  },
  {
   "cell_type": "code",
   "execution_count": 6,
   "id": "6488bcbd",
   "metadata": {},
   "outputs": [
    {
     "name": "stderr",
     "output_type": "stream",
     "text": [
      "'kill' is not recognized as an internal or external command,\n",
      "operable program or batch file.\n"
     ]
    }
   ],
   "source": []
  },
  {
   "cell_type": "code",
   "execution_count": null,
   "id": "96b6d1ab",
   "metadata": {},
   "outputs": [],
   "source": []
  }
 ],
 "metadata": {
  "kernelspec": {
   "display_name": "Python 3 (ipykernel)",
   "language": "python",
   "name": "python3"
  },
  "language_info": {
   "codemirror_mode": {
    "name": "ipython",
    "version": 3
   },
   "file_extension": ".py",
   "mimetype": "text/x-python",
   "name": "python",
   "nbconvert_exporter": "python",
   "pygments_lexer": "ipython3",
   "version": "3.9.7"
  }
 },
 "nbformat": 4,
 "nbformat_minor": 5
}
